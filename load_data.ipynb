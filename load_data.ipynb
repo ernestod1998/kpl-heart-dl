{
 "cells": [
  {
   "cell_type": "code",
   "execution_count": 1,
   "metadata": {},
   "outputs": [],
   "source": [
    "import os\n",
    "import h5py\n",
    "import numpy as np\n",
    "import pandas as pd\n",
    "from dataset import read_brainweb_sim_data\n",
    "import tqdm\n",
    "from h5_utils import multiframeimshow"
   ]
  },
  {
   "cell_type": "markdown",
   "metadata": {},
   "source": [
    "### Read in one example"
   ]
  },
  {
   "cell_type": "code",
   "execution_count": 5,
   "metadata": {},
   "outputs": [
    {
     "name": "stdout",
     "output_type": "stream",
     "text": [
      "<KeysViewHDF5 ['Mz0Maps', 'kMaps', 'kTRANS', 'metImages', 'weights']>\n",
      "<KeysViewHDF5 ['Mz0_scale', 'SNR', 'Tarrival', 'coil_lim', 'kineticRates', 'ktransScales']>\n"
     ]
    }
   ],
   "source": [
    "# read in h5 data\n",
    "data_folder = \"/data/ssahin/kpl_dl_sim/brainweb_6_24/sim_data/\"\n",
    "\n",
    "f = h5py.File(os.path.join(data_folder, \"1_2.h5\"), 'r')\n",
    "print(f.keys())\n",
    "print(f.attrs.keys())"
   ]
  },
  {
   "cell_type": "code",
   "execution_count": 10,
   "metadata": {},
   "outputs": [
    {
     "name": "stdout",
     "output_type": "stream",
     "text": [
      "(2, 16, 16)\n",
      "(16, 16)\n",
      "(16, 16, 20, 2)\n",
      "[[0.         0.        ]\n",
      " [0.01507364 0.00640207]\n",
      " [0.01547167 0.00640207]]\n",
      "[[1.         3.43519055]\n",
      " [0.23381906 0.38734139]\n",
      " [0.2218317  0.37535403]]\n",
      "[0.00328188]\n"
     ]
    }
   ],
   "source": [
    "print(f[\"kMaps\"].shape)\n",
    "print(f[\"kTRANS\"].shape)\n",
    "print(f[\"metImages\"][:][:,:,:,0:2].shape)\n",
    "\n",
    "print(f.attrs[\"kineticRates\"])\n",
    "print(f.attrs[\"ktransScales\"])\n",
    "print(f.attrs[\"std_noise\"])\n",
    "f.close()"
   ]
  },
  {
   "cell_type": "code",
   "execution_count": 12,
   "metadata": {},
   "outputs": [
    {
     "name": "stdout",
     "output_type": "stream",
     "text": [
      "(40, 64, 64)\n",
      "(64, 64)\n",
      "(64, 64)\n",
      "False\n",
      "False\n"
     ]
    }
   ],
   "source": [
    "xxx = read_brainweb_sim_data(os.path.join(data_folder, \"1_2.h5\"))\n",
    "\n",
    "#print(xxx)\n",
    "print(xxx['data'].shape)\n",
    "print(xxx['kPL'].shape)\n",
    "print(xxx['kTRANS'].shape)\n",
    "\n",
    "print(np.any(np.isnan(xxx[\"data\"])))\n",
    "print(np.any(np.isnan(xxx[\"kPL\"])))"
   ]
  },
  {
   "cell_type": "code",
   "execution_count": 2,
   "metadata": {},
   "outputs": [],
   "source": [
    "train_data = pd.read_pickle(\"groups/train_BW_6_24\")\n",
    "file_list = train_data[\"file\"].to_list()"
   ]
  },
  {
   "cell_type": "code",
   "execution_count": 3,
   "metadata": {},
   "outputs": [
    {
     "name": "stderr",
     "output_type": "stream",
     "text": [
      "100%|██████████| 3200/3200 [00:06<00:00, 466.75it/s]"
     ]
    },
    {
     "name": "stdout",
     "output_type": "stream",
     "text": [
      "[]\n",
      "[]\n"
     ]
    },
    {
     "name": "stderr",
     "output_type": "stream",
     "text": [
      "\n"
     ]
    }
   ],
   "source": [
    "nan_data_list = []\n",
    "nan_kpl_list = []\n",
    "\n",
    "for f in tqdm.tqdm(file_list):\n",
    "    xxx = read_brainweb_sim_data(f)\n",
    "    data_nan = np.any(np.isnan(xxx[\"data\"]))\n",
    "    kpl_nan = np.any(np.isnan(xxx[\"kPL\"]))\n",
    "\n",
    "    if data_nan:\n",
    "        nan_data_list.append(f)\n",
    "\n",
    "    if kpl_nan:\n",
    "        nan_kpl_list.append(f)\n",
    "\n",
    "print(nan_data_list)\n",
    "print(nan_kpl_list)"
   ]
  },
  {
   "cell_type": "code",
   "execution_count": 4,
   "metadata": {},
   "outputs": [
    {
     "name": "stdout",
     "output_type": "stream",
     "text": [
      "0\n"
     ]
    }
   ],
   "source": [
    "print(len(nan_data_list))"
   ]
  },
  {
   "cell_type": "code",
   "execution_count": 20,
   "metadata": {},
   "outputs": [
    {
     "name": "stdout",
     "output_type": "stream",
     "text": [
      "[[[nan nan nan ... nan nan nan]\n",
      "  [nan nan nan ... nan nan nan]\n",
      "  [nan nan nan ... nan nan nan]\n",
      "  ...\n",
      "  [nan nan nan ... nan nan nan]\n",
      "  [nan nan nan ... nan nan nan]\n",
      "  [nan nan nan ... nan nan nan]]\n",
      "\n",
      " [[nan nan nan ... nan nan nan]\n",
      "  [nan nan nan ... nan nan nan]\n",
      "  [nan nan nan ... nan nan nan]\n",
      "  ...\n",
      "  [nan nan nan ... nan nan nan]\n",
      "  [nan nan nan ... nan nan nan]\n",
      "  [nan nan nan ... nan nan nan]]\n",
      "\n",
      " [[nan nan nan ... nan nan nan]\n",
      "  [nan nan nan ... nan nan nan]\n",
      "  [nan nan nan ... nan nan nan]\n",
      "  ...\n",
      "  [nan nan nan ... nan nan nan]\n",
      "  [nan nan nan ... nan nan nan]\n",
      "  [nan nan nan ... nan nan nan]]\n",
      "\n",
      " ...\n",
      "\n",
      " [[nan nan nan ... nan nan nan]\n",
      "  [nan nan nan ... nan nan nan]\n",
      "  [nan nan nan ... nan nan nan]\n",
      "  ...\n",
      "  [nan nan nan ... nan nan nan]\n",
      "  [nan nan nan ... nan nan nan]\n",
      "  [nan nan nan ... nan nan nan]]\n",
      "\n",
      " [[nan nan nan ... nan nan nan]\n",
      "  [nan nan nan ... nan nan nan]\n",
      "  [nan nan nan ... nan nan nan]\n",
      "  ...\n",
      "  [nan nan nan ... nan nan nan]\n",
      "  [nan nan nan ... nan nan nan]\n",
      "  [nan nan nan ... nan nan nan]]\n",
      "\n",
      " [[nan nan nan ... nan nan nan]\n",
      "  [nan nan nan ... nan nan nan]\n",
      "  [nan nan nan ... nan nan nan]\n",
      "  ...\n",
      "  [nan nan nan ... nan nan nan]\n",
      "  [nan nan nan ... nan nan nan]\n",
      "  [nan nan nan ... nan nan nan]]]\n"
     ]
    }
   ],
   "source": [
    "f = nan_data_list[45]\n",
    "xxx = read_brainweb_sim_data(f)\n",
    "data = xxx[\"data\"]\n",
    "pyr = np.transpose(data[:20,:,:], (1,2,0))\n",
    "lac = np.transpose(data[20:,:,:], (1,2,0))\n",
    "#multiframeimshow(pyr, [0, np.max(pyr)], [4, 5])\n",
    "#multiframeimshow(lac, [0, np.max(lac)], [4, 5])\n",
    "print(pyr)"
   ]
  }
 ],
 "metadata": {
  "kernelspec": {
   "display_name": "Python 3.12.3 ('pytorch')",
   "language": "python",
   "name": "python3"
  },
  "language_info": {
   "codemirror_mode": {
    "name": "ipython",
    "version": 3
   },
   "file_extension": ".py",
   "mimetype": "text/x-python",
   "name": "python",
   "nbconvert_exporter": "python",
   "pygments_lexer": "ipython3",
   "version": "3.12.3"
  },
  "vscode": {
   "interpreter": {
    "hash": "7c11a12ba726d250413b0e7de7ae4adbf58d0e9ac1876a988c9785599658c8c9"
   }
  }
 },
 "nbformat": 4,
 "nbformat_minor": 2
}
