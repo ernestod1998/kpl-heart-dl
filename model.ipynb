{
 "cells": [
  {
   "cell_type": "code",
   "execution_count": 1,
   "metadata": {},
   "outputs": [],
   "source": [
    "from h5_utils import read_sim_data, basic_grouping, catalog_exams\n",
    "import glob\n",
    "import torch\n",
    "import h5py\n",
    "import matplotlib.pyplot as plt\n",
    "import os\n",
    "import numpy as np\n",
    "from scipy import ndimage\n",
    "from tqdm import tqdm\n",
    "import pandas as pd\n",
    "import pytorch_lightning as pl\n",
    "import monai\n",
    "from pytorch_lightning.loggers import TensorBoardLogger\n",
    "from pytorch_lightning.callbacks import ModelCheckpoint"
   ]
  },
  {
   "cell_type": "code",
   "execution_count": 4,
   "metadata": {},
   "outputs": [
    {
     "name": "stdout",
     "output_type": "stream",
     "text": [
      "BasicUNet features: (32, 32, 64, 128, 256, 32).\n"
     ]
    }
   ],
   "source": [
    "# define the LightningModule\n",
    "class UnetModel(pl.LightningModule):\n",
    "    def __init__(self, input_size, spatial_dims, num_channels):\n",
    "        super().__init__()\n",
    "        self.input_size = input_size\n",
    "        self.num_channels = num_channels\n",
    "        self.model = monai.networks.nets.BasicUNet(spatial_dims=spatial_dims, in_channels=num_channels, out_channels=1, features=(32, 32, 64, 128, 256, 32)) #.to(device)\n",
    "\n",
    "    def forward(self, data):\n",
    "        #ouput of this is [batch_size, (64, 64, 1)]\n",
    "        #print('forward step')\n",
    "        return self.model(data.float())\n",
    "\n",
    "    def training_step(self, batch, batch_idx):\n",
    "        # training_step defines the train loop.\n",
    "        # it is independent of forward\n",
    "        imgs = batch[\"data\"] # shape [N 60 64 64]\n",
    "        label = batch[\"kPL\"] # shape [N 64 64]\n",
    "        prediction = self.forward(imgs).squeeze()\n",
    "\n",
    "        # L1 loss\n",
    "        l1loss = torch.nn.L1Loss(reduction='none')\n",
    "        output = l1loss(prediction, label)\n",
    "        loss_l1_batch = torch.sum(output, (1,2))\n",
    "        loss_l1 = torch.mean(loss_l1_batch)\n",
    "\n",
    "        # L2 loss\n",
    "        l2loss = torch.nn.L2Loss(reduction='none')\n",
    "        output = l2loss(prediction, label)\n",
    "        loss_l2_batch = torch.sum(output, (1,2))\n",
    "        loss_l2 = torch.mean(loss_l2_batch)\n",
    "\n",
    "        # Logging to TensorBoard (if installed) by default\n",
    "        values = {\"train_loss\": loss_l1, \"train_l2\": loss_l2}\n",
    "        self.log(values)\n",
    "        return loss_l1\n",
    "    \n",
    "    def validation_step(self, batch, batch_idx):\n",
    "        # this is the validation loop\n",
    "        imgs = batch[\"data\"] # shape [N 60 64 64]\n",
    "        label = batch[\"kPL\"] # shape [N 64 64]\n",
    "        prediction = self.forward(imgs).squeeze()\n",
    "\n",
    "        # L1 loss\n",
    "        l1loss = torch.nn.L1Loss(reduction='none')\n",
    "        output = l1loss(prediction, label)\n",
    "        loss_l1_batch = torch.sum(output, (1,2))\n",
    "        loss_l1 = torch.mean(loss_l1_batch)\n",
    "\n",
    "        # L2 loss\n",
    "        l2loss = torch.nn.L2Loss(reduction='none')\n",
    "        output = l2loss(prediction, label)\n",
    "        loss_l2_batch = torch.sum(output, (1,2))\n",
    "        loss_l2 = torch.mean(loss_l2_batch)\n",
    "\n",
    "        # Logging to TensorBoard (if installed) by default\n",
    "        values = {\"val_loss\": loss_l1, \"val_l2\": loss_l2}\n",
    "        self.log(values)\n",
    "\n",
    "    def configure_optimizers(self):\n",
    "        optimizer = torch.optim.Adam(self.model.parameters(), lr=1e-3) \n",
    "        return optimizer\n",
    "\n",
    "\n",
    "# init the classification model\n",
    "input_size = (64, 64)\n",
    "spatial_dims = 2 \n",
    "num_channels = 60 #metabolies*tpts\n",
    "unet_model = UnetModel(input_size=input_size, spatial_dims=spatial_dims, num_channels=num_channels)\n",
    "logger = TensorBoardLogger(save_dir=os.getcwd(), version=2, name=\"lightning_logs\")\n",
    "checkpoint_callback = ModelCheckpoint(dirpath=\"./checkpoints\", save_top_k=3, monitor=\"val_loss\")"
   ]
  },
  {
   "cell_type": "code",
   "execution_count": 3,
   "metadata": {},
   "outputs": [
    {
     "name": "stdout",
     "output_type": "stream",
     "text": [
      "training data\n"
     ]
    },
    {
     "name": "stderr",
     "output_type": "stream",
     "text": [
      "100%|██████████| 800/800 [00:02<00:00, 329.18it/s]"
     ]
    },
    {
     "name": "stdout",
     "output_type": "stream",
     "text": [
      "\t all (800, 4)\n",
      "--> # steps in epoch: 400\n"
     ]
    },
    {
     "name": "stderr",
     "output_type": "stream",
     "text": [
      "\n"
     ]
    },
    {
     "name": "stdout",
     "output_type": "stream",
     "text": [
      "val data\n"
     ]
    },
    {
     "name": "stderr",
     "output_type": "stream",
     "text": [
      "100%|██████████| 100/100 [00:00<00:00, 314.90it/s]"
     ]
    },
    {
     "name": "stdout",
     "output_type": "stream",
     "text": [
      "\t all (100, 4)\n",
      "--> # steps in epoch: 50\n"
     ]
    },
    {
     "name": "stderr",
     "output_type": "stream",
     "text": [
      "\n"
     ]
    }
   ],
   "source": [
    "# dataloader\n",
    "train_dataset = BrainWebDataset(\"groups/train_TEST\", read_brainweb_sim_data)\n",
    "val_dataset = BrainWebDataset(\"groups/val_TEST\", read_brainweb_sim_data)\n",
    "\n",
    "dl_train = DataLoader(train_dataset, batch_size=2, shuffle=True, num_workers=8)\n",
    "dl_val = DataLoader(val_dataset, batch_size=2, shuffle=True, num_workers=8)"
   ]
  },
  {
   "cell_type": "code",
   "execution_count": 6,
   "metadata": {},
   "outputs": [
    {
     "name": "stderr",
     "output_type": "stream",
     "text": [
      "GPU available: True, used: True\n",
      "TPU available: False, using: 0 TPU cores\n",
      "IPU available: False, using: 0 IPUs\n",
      "LOCAL_RANK: 0 - CUDA_VISIBLE_DEVICES: [0,1]\n",
      "\n",
      "  | Name  | Type      | Params\n",
      "------------------------------------\n",
      "0 | model | BasicUNet | 2.0 M \n",
      "------------------------------------\n",
      "2.0 M     Trainable params\n",
      "0         Non-trainable params\n",
      "2.0 M     Total params\n",
      "7.982     Total estimated model params size (MB)\n"
     ]
    },
    {
     "data": {
      "application/vnd.jupyter.widget-view+json": {
       "model_id": "d23d83a8853941bdbe9ad49af1d8305f",
       "version_major": 2,
       "version_minor": 0
      },
      "text/plain": [
       "Validation sanity check: 0it [00:00, ?it/s]"
      ]
     },
     "metadata": {},
     "output_type": "display_data"
    },
    {
     "name": "stderr",
     "output_type": "stream",
     "text": [
      "/home/ssahin/anaconda/envs/reg-36/lib/python3.6/site-packages/pytorch_lightning/trainer/data_loading.py:662: UserWarning: Your `val_dataloader` has `shuffle=True`, it is strongly recommended that you turn this off for val/test/predict dataloaders.\n",
      "  category=UserWarning,\n",
      "/home/ssahin/anaconda/envs/reg-36/lib/python3.6/site-packages/pytorch_lightning/utilities/data.py:60: UserWarning: Trying to infer the `batch_size` from an ambiguous collection. The batch size we found is 39. To avoid any miscalculations, use `self.log(..., batch_size=batch_size)`.\n",
      "  \"Trying to infer the `batch_size` from an ambiguous collection. The batch size we\"\n"
     ]
    },
    {
     "data": {
      "application/vnd.jupyter.widget-view+json": {
       "model_id": "f8b0bd11030a4a7cb2a9fca1ce371122",
       "version_major": 2,
       "version_minor": 0
      },
      "text/plain": [
       "Training: 0it [00:00, ?it/s]"
      ]
     },
     "metadata": {},
     "output_type": "display_data"
    },
    {
     "data": {
      "application/vnd.jupyter.widget-view+json": {
       "model_id": "3737fc27f43d4375ba72fc2a6ba4f944",
       "version_major": 2,
       "version_minor": 0
      },
      "text/plain": [
       "Validating: 0it [00:00, ?it/s]"
      ]
     },
     "metadata": {},
     "output_type": "display_data"
    },
    {
     "name": "stderr",
     "output_type": "stream",
     "text": [
      "/home/ssahin/anaconda/envs/reg-36/lib/python3.6/site-packages/pytorch_lightning/utilities/data.py:60: UserWarning: Trying to infer the `batch_size` from an ambiguous collection. The batch size we found is 38. To avoid any miscalculations, use `self.log(..., batch_size=batch_size)`.\n",
      "  \"Trying to infer the `batch_size` from an ambiguous collection. The batch size we\"\n"
     ]
    },
    {
     "data": {
      "application/vnd.jupyter.widget-view+json": {
       "model_id": "ac78227eb91740bd95ab3805f2cc90b7",
       "version_major": 2,
       "version_minor": 0
      },
      "text/plain": [
       "Validating: 0it [00:00, ?it/s]"
      ]
     },
     "metadata": {},
     "output_type": "display_data"
    },
    {
     "data": {
      "application/vnd.jupyter.widget-view+json": {
       "model_id": "f43ea5d108604fb5b7761fd8a57dfd3d",
       "version_major": 2,
       "version_minor": 0
      },
      "text/plain": [
       "Validating: 0it [00:00, ?it/s]"
      ]
     },
     "metadata": {},
     "output_type": "display_data"
    },
    {
     "data": {
      "application/vnd.jupyter.widget-view+json": {
       "model_id": "510456a1c5ab49d89720480b489994ce",
       "version_major": 2,
       "version_minor": 0
      },
      "text/plain": [
       "Validating: 0it [00:00, ?it/s]"
      ]
     },
     "metadata": {},
     "output_type": "display_data"
    },
    {
     "data": {
      "application/vnd.jupyter.widget-view+json": {
       "model_id": "7b8d03a0f5ae498db9f19137f74ac8fd",
       "version_major": 2,
       "version_minor": 0
      },
      "text/plain": [
       "Validating: 0it [00:00, ?it/s]"
      ]
     },
     "metadata": {},
     "output_type": "display_data"
    }
   ],
   "source": [
    "trainer = pl.Trainer(max_epochs=500, devices=1, accelerator=\"gpu\", logger=logger, callbacks=[checkpoint_callback]) #devices here is the numbers of the devices to use\n",
    "trainer.fit(model=unet_model, train_dataloaders=dl_train, val_dataloaders=dl_val) "
   ]
  },
  {
   "cell_type": "code",
   "execution_count": 7,
   "metadata": {},
   "outputs": [
    {
     "name": "stdout",
     "output_type": "stream",
     "text": [
      "Batch index:  0\n",
      "Data size:  torch.Size([2, 60, 64, 64])\n",
      "kPL map size:  torch.Size([2, 64, 64])\n",
      "forward step\n",
      "torch.Size([2, 1, 64, 64])\n",
      "forward step\n",
      "tensor(1997.7825, grad_fn=<MeanBackward0>)\n",
      "Batch index:  1\n",
      "Data size:  torch.Size([2, 60, 64, 64])\n",
      "kPL map size:  torch.Size([2, 64, 64])\n",
      "forward step\n"
     ]
    },
    {
     "name": "stderr",
     "output_type": "stream",
     "text": [
      "/home/ssahin/anaconda/envs/reg-36/lib/python3.6/site-packages/pytorch_lightning/core/lightning.py:416: UserWarning: You are trying to `self.log()` but the `self.trainer` reference is not registered on the model yet. This is most likely because the model hasn't been passed to the `Trainer`\n",
      "  \"You are trying to `self.log()` but the `self.trainer` reference is not registered on the model yet.\"\n"
     ]
    },
    {
     "name": "stdout",
     "output_type": "stream",
     "text": [
      "torch.Size([2, 1, 64, 64])\n",
      "forward step\n",
      "tensor(1962.2917, grad_fn=<MeanBackward0>)\n"
     ]
    }
   ],
   "source": [
    "for i_batch, sample_batched in enumerate(dl_train):\n",
    "    print('Batch index: ', i_batch)\n",
    "    print('Data size: ', sample_batched[\"data\"].size())\n",
    "    print('kPL map size: ', sample_batched[\"kPL\"].size())\n",
    "    predicted_map = unet_model(sample_batched[\"data\"]) \n",
    "    print(predicted_map.shape)\n",
    "    loss = unet_model.training_step(sample_batched, i_batch)\n",
    "    print(loss)\n",
    "    #if i_batch >= count_train-1:\n",
    "    if i_batch >= 1:\n",
    "        break"
   ]
  },
  {
   "cell_type": "code",
   "execution_count": 6,
   "metadata": {},
   "outputs": [
    {
     "name": "stdout",
     "output_type": "stream",
     "text": [
      "tensor([[[2.1736, 2.1025, 0.4572, 2.3601, 0.2952],\n",
      "         [0.5978, 1.0092, 1.6555, 1.3653, 0.2777],\n",
      "         [0.7864, 0.4777, 0.3644, 3.0574, 1.4337]],\n",
      "\n",
      "        [[1.9992, 0.5427, 0.4297, 1.5851, 0.7495],\n",
      "         [1.3727, 1.3939, 0.1706, 2.7125, 0.1682],\n",
      "         [0.6284, 0.4092, 2.5690, 1.2286, 1.2483]]], grad_fn=<L1LossBackward0>)\n",
      "torch.Size([2, 3, 5])\n"
     ]
    }
   ],
   "source": [
    "loss = torch.nn.L1Loss(reduction='none')\n",
    "input = torch.randn(2, 3, 5, requires_grad=True)\n",
    "target = torch.randn(2, 3, 5)\n",
    "output = loss(input, target)\n",
    "print(output)\n",
    "print(output.shape)"
   ]
  }
 ],
 "metadata": {
  "kernelspec": {
   "display_name": "Python 3.12.3 ('pytorch')",
   "language": "python",
   "name": "python3"
  },
  "language_info": {
   "codemirror_mode": {
    "name": "ipython",
    "version": 3
   },
   "file_extension": ".py",
   "mimetype": "text/x-python",
   "name": "python",
   "nbconvert_exporter": "python",
   "pygments_lexer": "ipython3",
   "version": "3.12.3"
  },
  "vscode": {
   "interpreter": {
    "hash": "7c11a12ba726d250413b0e7de7ae4adbf58d0e9ac1876a988c9785599658c8c9"
   }
  }
 },
 "nbformat": 4,
 "nbformat_minor": 2
}
